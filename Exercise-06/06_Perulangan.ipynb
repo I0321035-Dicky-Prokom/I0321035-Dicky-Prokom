{
 "cells": [
  {
   "cell_type": "markdown",
   "metadata": {},
   "source": [
    "***\n",
    "<h1 align=\"center\">Exercise 06</h1>\n",
    " \n",
    "***\n",
    "## While Loop\n",
    "## Exercise 6.1\n",
    "isilah bagian rumpang berikut. xx diganti tanggal lahir dan yy diganti menjadi bulan lahir. tandanya menyesuaikan yang lebih besar."
   ]
  },
  {
   "cell_type": "code",
   "execution_count": 6,
   "metadata": {},
   "outputs": [
    {
     "name": "stdout",
     "output_type": "stream",
     "text": [
      "Hidup adalah seni menggambar tanpa penghapus\n",
      "Hidup adalah seni menggambar tanpa penghapus\n",
      "Hidup adalah seni menggambar tanpa penghapus\n",
      "Hidup adalah seni menggambar tanpa penghapus\n",
      "Hidup adalah seni menggambar tanpa penghapus\n",
      "Hidup adalah seni menggambar tanpa penghapus\n",
      "Hidup adalah seni menggambar tanpa penghapus\n",
      "Hidup adalah seni menggambar tanpa penghapus\n",
      "Hidup adalah seni menggambar tanpa penghapus\n",
      "Hidup adalah seni menggambar tanpa penghapus\n",
      "Hidup adalah seni menggambar tanpa penghapus\n",
      "Hidup adalah seni menggambar tanpa penghapus\n",
      "Hidup adalah seni menggambar tanpa penghapus\n",
      "Hidup adalah seni menggambar tanpa penghapus\n",
      "Hidup adalah seni menggambar tanpa penghapus\n",
      "Hidup adalah seni menggambar tanpa penghapus\n",
      "Hidup adalah seni menggambar tanpa penghapus\n",
      "Hidup adalah seni menggambar tanpa penghapus\n",
      "Hidup adalah seni menggambar tanpa penghapus\n",
      "Hidup adalah seni menggambar tanpa penghapus\n",
      "Hidup adalah seni menggambar tanpa penghapus\n",
      "Hidup adalah seni menggambar tanpa penghapus\n",
      "Hidup adalah seni menggambar tanpa penghapus\n",
      "Hidup adalah seni menggambar tanpa penghapus\n",
      "Hidup adalah seni menggambar tanpa penghapus\n",
      "Hidup adalah seni menggambar tanpa penghapus\n",
      "Hidup adalah seni menggambar tanpa penghapus\n",
      "Hidup adalah seni menggambar tanpa penghapus\n"
     ]
    }
   ],
   "source": [
    "#menentukan banyak pengulangan\n",
    "n = 28\n",
    "\n",
    "#melakukan pengulangan\n",
    "i = 1\n",
    "\n",
    "while i <= n :\n",
    "    print (\"Hidup adalah seni menggambar tanpa penghapus\")\n",
    "    #diisi motto kalian\n",
    "    i = i + 1 # sesuaikan dengan atas agar fungsi perulangan dapat berhenti\n"
   ]
  },
  {
   "cell_type": "markdown",
   "metadata": {},
   "source": [
    "## Exercise 6.2\n",
    "\n",
    "Buatlah code seperti yang dicontohkan pada modul agar user dapat menginputkan sendiri jumlah n yang diinginkan"
   ]
  },
  {
   "cell_type": "code",
   "execution_count": 2,
   "metadata": {},
   "outputs": [
    {
     "name": "stdout",
     "output_type": "stream",
     "text": [
      "6\n",
      "7\n",
      "8\n",
      "9\n",
      "10\n",
      "11\n",
      "12\n",
      "13\n"
     ]
    }
   ],
   "source": [
    "#Kerjakan disini\n",
    "n = int(input(\"input nilai n: \"))\n",
    "\n",
    "#melakukan pengulangan\n",
    "i = 6\n",
    "\n",
    "while i <= n :\n",
    "    print (i)\n",
    "    i = i + 1"
   ]
  },
  {
   "cell_type": "markdown",
   "metadata": {},
   "source": [
    "## Excercise 6.3\n",
    "\n",
    "isilah xx, yy, dan tanda rumpang seperti pada exercise 6.1\n"
   ]
  },
  {
   "cell_type": "code",
   "execution_count": 1,
   "metadata": {},
   "outputs": [
    {
     "name": "stdout",
     "output_type": "stream",
     "text": [
      "Baris ke-1 : John Wick\n",
      "Baris ke-2 : John Wick\n",
      "Baris ke-3 : John Wick\n",
      "Baris ke-4 : John Wick\n",
      "Baris ke-5 : John Wick\n",
      "Baris ke-6 : John Wick\n",
      "Baris ke-7 : John Wick\n",
      "Baris ke-8 : John Wick\n",
      "Baris ke-9 : John Wick\n",
      "Baris ke-10 : John Wick\n",
      "Baris ke-11 : John Wick\n",
      "Baris ke-12 : John Wick\n",
      "Baris ke-13 : John Wick\n",
      "Baris ke-14 : John Wick\n",
      "Baris ke-15 : John Wick\n",
      "Baris ke-16 : John Wick\n",
      "Baris ke-17 : John Wick\n",
      "Baris ke-18 : John Wick\n",
      "Baris ke-19 : John Wick\n",
      "Baris ke-20 : John Wick\n",
      "Baris ke-21 : John Wick\n",
      "Baris ke-22 : John Wick\n",
      "Baris ke-23 : John Wick\n",
      "Baris ke-24 : John Wick\n",
      "Baris ke-25 : John Wick\n",
      "Baris ke-26 : John Wick\n",
      "Baris ke-27 : John Wick\n"
     ]
    }
   ],
   "source": [
    "#melakukan pengulangan\n",
    "i = 1\n",
    "\n",
    "while i != 28 :\n",
    "    print (\"Baris ke-%d : John Wick\"%i)\n",
    "    #isi titik-titik dengan judul film favorit kalian\n",
    "    i = i + 1"
   ]
  },
  {
   "cell_type": "markdown",
   "metadata": {},
   "source": [
    "## FOR LOOP\n",
    "\n",
    "## Exercise 6.4\n",
    "\n",
    "munculkan 3 dari 7 elemen yang berada di dalam list1 dan list2\n"
   ]
  },
  {
   "cell_type": "code",
   "execution_count": 4,
   "metadata": {},
   "outputs": [
    {
     "name": "stdout",
     "output_type": "stream",
     "text": [
      "3 Nasi Goreng Bandung\n",
      "4 Durian Lombok\n",
      "5 Soto Denpasar\n",
      "6 Sate Kambing Bogor\n",
      "7 Gudeg Madrid\n"
     ]
    }
   ],
   "source": [
    "list1 = [\n",
    "    'Mie Goreng',\n",
    "    'Mie Ayam',\n",
    "    'Nasi Goreng',\n",
    "    'Durian',\n",
    "    'Soto',\n",
    "    'Sate Kambing',\n",
    "    'Gudeg'\n",
    "] #masukkan 7 list makanan favorit kalian\n",
    "list2 = [\n",
    "    'Solo',\n",
    "    'Banda Aceh',\n",
    "    'Bandung',\n",
    "    'Lombok',\n",
    "    'Denpasar',\n",
    "    'Bogor',\n",
    "    'Madrid'\n",
    "] #masukkan 7 list kota favorit kalian\n",
    "\n",
    "for i in range(2,7) :\n",
    "    print(i+1, list1[i] , list2[i])"
   ]
  },
  {
   "cell_type": "markdown",
   "metadata": {},
   "source": [
    "## Perulangan Bersarang\n",
    "\n",
    "## Exercise 6.5"
   ]
  },
  {
   "cell_type": "code",
   "execution_count": 5,
   "metadata": {},
   "outputs": [
    {
     "name": "stdout",
     "output_type": "stream",
     "text": [
      "1 \n",
      "2 4 \n",
      "3 6 9 \n",
      "4 8 12 16 \n",
      "5 10 15 20 25 \n",
      "6 12 18 24 30 36 \n",
      "7 14 21 28 35 42 49 \n",
      "8 16 24 32 40 48 56 64 \n",
      "9 18 27 36 45 54 63 72 81 \n",
      "10 20 30 40 50 60 70 80 90 100 \n",
      "11 22 33 44 55 66 77 88 99 110 121 \n",
      "12 24 36 48 60 72 84 96 108 120 132 144 \n",
      "13 26 39 52 65 78 91 104 117 130 143 156 169 \n",
      "14 28 42 56 70 84 98 112 126 140 154 168 182 196 \n",
      "15 30 45 60 75 90 105 120 135 150 165 180 195 210 225 \n",
      "16 32 48 64 80 96 112 128 144 160 176 192 208 224 240 256 \n",
      "17 34 51 68 85 102 119 136 153 170 187 204 221 238 255 272 289 \n",
      "18 36 54 72 90 108 126 144 162 180 198 216 234 252 270 288 306 324 \n",
      "19 38 57 76 95 114 133 152 171 190 209 228 247 266 285 304 323 342 361 \n",
      "20 40 60 80 100 120 140 160 180 200 220 240 260 280 300 320 340 360 380 400 \n",
      "21 42 63 84 105 126 147 168 189 210 231 252 273 294 315 336 357 378 399 420 441 \n",
      "22 44 66 88 110 132 154 176 198 220 242 264 286 308 330 352 374 396 418 440 462 484 \n",
      "23 46 69 92 115 138 161 184 207 230 253 276 299 322 345 368 391 414 437 460 483 506 529 \n",
      "24 48 72 96 120 144 168 192 216 240 264 288 312 336 360 384 408 432 456 480 504 528 552 576 \n",
      "25 50 75 100 125 150 175 200 225 250 275 300 325 350 375 400 425 450 475 500 525 550 575 600 625 \n",
      "26 52 78 104 130 156 182 208 234 260 286 312 338 364 390 416 442 468 494 520 546 572 598 624 650 676 \n",
      "27 54 81 108 135 162 189 216 243 270 297 324 351 378 405 432 459 486 513 540 567 594 621 648 675 702 729 \n",
      "28 56 84 112 140 168 196 224 252 280 308 336 364 392 420 448 476 504 532 560 588 616 644 672 700 728 756 784 \n"
     ]
    }
   ],
   "source": [
    "i = 1\n",
    "while i <= 28:\n",
    "    j = 1\n",
    "    while j<=i:\n",
    "        print(\"%d \" % (i*j), end = '')\n",
    "        j = j + 1\n",
    "    print()\n",
    "    i+=1"
   ]
  },
  {
   "cell_type": "markdown",
   "metadata": {},
   "source": [
    "## Pernyataan Loncat\n",
    "\n",
    "## Exercise 6.\n",
    "\n",
    "Buatlah fungsi berikut agar muncul angka hingga berhenti sesuai dengan nilai qq\n",
    "qq = angka favorit kalian\n",
    "pp>qq"
   ]
  },
  {
   "cell_type": "code",
   "execution_count": 10,
   "metadata": {},
   "outputs": [
    {
     "name": "stdout",
     "output_type": "stream",
     "text": [
      "0 1 2 3 4 5 6 7 8 9 10 11 12 13 14 15 16 17 18 19 20 21 22 23 24 25 26 27 28 29 30 31 32 33 34 35 36 37 38 39 40 41 42 43 44 45 46 47 48 49 50 51 52 53 54 55 56 57 58 59 60 61 62 63 64 65 66 67 68 69 70 71 72 73 74 75 76 77 78 79 80 81 82 83 84 85 86 87 88 89 90 91 92 93 94 95 96 97 98 99 100 101 102 103 104 105 106 107 108 109 110 111 112 113 114 115 116 117 118 119 120 121 122 123 124 125 126 127 128 129 130 131 132 133 134 135 136 137 138 139 140 141 142 143 144 145 146 147 148 149 150 "
     ]
    }
   ],
   "source": [
    "for i in range(300):\n",
    "    print(i,end=' ')\n",
    "    if i == 150:\n",
    "        break"
   ]
  },
  {
   "cell_type": "markdown",
   "metadata": {},
   "source": [
    "***\n",
    "<h1 align=\"center\">WELL DONE</h1>\n",
    " \n",
    "***"
   ]
  }
 ],
 "metadata": {
  "interpreter": {
   "hash": "cd08f94adcf3cbae37fe85286256f4c2a10455ca9094fd053e9f3d3f09647223"
  },
  "kernelspec": {
   "display_name": "Python 3.9.7 64-bit",
   "language": "python",
   "name": "python3"
  },
  "language_info": {
   "codemirror_mode": {
    "name": "ipython",
    "version": 3
   },
   "file_extension": ".py",
   "mimetype": "text/x-python",
   "name": "python",
   "nbconvert_exporter": "python",
   "pygments_lexer": "ipython3",
   "version": "3.9.7"
  },
  "orig_nbformat": 4
 },
 "nbformat": 4,
 "nbformat_minor": 2
}
